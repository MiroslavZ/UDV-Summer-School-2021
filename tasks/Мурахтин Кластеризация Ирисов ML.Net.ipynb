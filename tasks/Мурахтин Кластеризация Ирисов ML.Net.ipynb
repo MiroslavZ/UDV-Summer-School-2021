{
 "metadata": {
  "kernelspec": {
   "name": ".net-csharp",
   "display_name": ".NET (C#)",
   "language": "C#"
  },
  "language_info": {
   "file_extension": ".cs",
   "mimetype": "text/x-csharp",
   "name": "C#",
   "pygments_lexer": "csharp",
   "version": "9.0"
  },
  "interpreter": {
   "hash": "78955a435dc0832822bfc78d9b5760d43f465760d09fdcea9ea71468104da143"
  }
 },
 "cells": [
  {
   "cell_type": "markdown",
   "source": [
    "Задача Кластеризации\r\n",
    "\r\n",
    "Кластеризация (англ. cluster analysis) — задача группировки множества объектов на подмножества (кластеры) таким образом, чтобы объекты из одного кластера были более похожи друг на друга, чем на объекты из других кластеров по какому-либо критерию.\r\n",
    "\r\n",
    "Задача кластеризации относится к классу задач обучения без учителя."
   ],
   "metadata": {}
  },
  {
   "cell_type": "markdown",
   "source": [
    "![](2021-07-26-19-41-21.png)\r\n",
    "\r\n",
    "Пример кластеров"
   ],
   "metadata": {}
  },
  {
   "cell_type": "markdown",
   "source": [
    "Цели Кластеризации\r\n",
    "\r\n",
    "1. Классификация объектов. Попытка понять зависимости между объектами путем выявления их кластерной структуры. Разбиение выборки на группы схожих объектов упрощает дальнейшую обработку данных и принятие решений, позволяет применить к каждому кластеру свой метод анализа (стратегия «разделяй и властвуй»). В данном случае стремятся уменьшить число кластеров для выявления наиболее общих закономерностей;\r\n",
    "\r\n",
    "2. Сжатие данных. Можно сократить размер исходной выборки, взяв один или несколько наиболее типичных представителей каждого кластера. Здесь важно наиболее точно очертить границы каждого кластера, их количество не является важным критерием;\r\n",
    "\r\n",
    "3. Обнаружение новизны (обнаружение шума). Выделение объектов, которые не подходят по критериям ни в один кластер. Обнаруженные объекты в дальнейшем обрабатывают отдельно."
   ],
   "metadata": {}
  },
  {
   "cell_type": "markdown",
   "source": [
    "Методы Кластеризации\r\n",
    "\r\n",
    "1. Графовые алгоритмы кластеризации. Наиболее примитивный класс алгоритмов. В настоящее время практически не применяется на практике;\r\n",
    "\r\n",
    "2. Вероятностные алгоритмы кластеризации. Каждый объект из обучающей выборки относится к каждому из кластеров с определенной степенью вероятности:\r\n",
    "EM-алгоритм;\r\n",
    "\r\n",
    "3. Иерархические алгоритмы кластеризации. Упорядочивание данных путем создания иерархии вложенных кластеров;\r\n",
    "Алгоритм k-средних (англ. k-means). Итеративный алгоритм, основанный на минимизации суммарного квадратичного отклонения точек кластеров от центров этих кластеров;\r\n",
    "\r\n",
    "4. Распространение похожести (англ. affinity propagation). Распространяет сообщения о похожести между парами объектов для выбора типичных представителей каждого кластера;\r\n",
    "\r\n",
    "5. Сдвиг среднего значения (англ. mean shift). Выбирает центроиды кластеров в областях с наибольшей плотностью;\r\n",
    "\r\n",
    "6. Спектральная кластеризация (англ. spectral clustering). Использует собственные значения матрицы расстояний для понижения размерности перед использованием других методов кластеризации;\r\n",
    "\r\n",
    "7. Основанная на плотности пространственная кластеризация для приложений с шумами (англ. Density-based spatial clustering of applications with noise, DBSCAN). Алгоритм группирует в один кластер точки в области с высокой плотностью. Одиноко расположенные точки помечает как шум."
   ],
   "metadata": {}
  },
  {
   "cell_type": "markdown",
   "source": [
    "Задача — разделить ирисы на группы в зависимости от признаков цветка."
   ],
   "metadata": {}
  },
  {
   "cell_type": "markdown",
   "source": [
    "Устанавливаем ML.NET"
   ],
   "metadata": {}
  },
  {
   "cell_type": "code",
   "execution_count": null,
   "source": [
    "#r \"nuget:Microsoft.ML\"\r\n"
   ],
   "outputs": [
    {
     "data": {
      "text/html": [
       "<div><div></div><div><strong>Installed Packages</strong><ul><li><span>Microsoft.ML, 1.6.0</span></li><li><span>microsoft.ml.cpumath, 1.6.0</span></li><li><span>microsoft.ml.dataview, 1.6.0</span></li><li><span>newtonsoft.json, 10.0.3</span></li><li><span>system.codedom, 4.4.0</span></li></ul></div><div></div></div>"
      ]
     },
     "metadata": {},
     "output_type": "display_data"
    }
   ],
   "metadata": {
    "dotnet_interactive": {
     "language": "csharp"
    }
   }
  },
  {
   "cell_type": "markdown",
   "source": [
    "Начинаем использовать установленные библиотеки ML.NET"
   ],
   "metadata": {}
  },
  {
   "cell_type": "code",
   "execution_count": null,
   "source": [
    "using Microsoft.ML;\r\n",
    "using Microsoft.ML.Data;"
   ],
   "outputs": [],
   "metadata": {
    "dotnet_interactive": {
     "language": "csharp"
    }
   }
  },
  {
   "cell_type": "markdown",
   "source": [
    "Используем IO для загрузки данных"
   ],
   "metadata": {}
  },
  {
   "cell_type": "code",
   "execution_count": null,
   "source": [
    "using System.IO;\r\n",
    "\r\n",
    "static readonly string _dataPath = Path.Combine(Environment.CurrentDirectory, \"Data\", \"iris.data.txt\");"
   ],
   "outputs": [],
   "metadata": {
    "dotnet_interactive": {
     "language": "csharp"
    }
   }
  },
  {
   "cell_type": "markdown",
   "source": [
    "Класс для хранения данных об ирисах\r\n",
    "\r\n",
    "Атрибут LoadColumn используется для указания индексов исходных столбцов в файле набора данных."
   ],
   "metadata": {}
  },
  {
   "cell_type": "code",
   "execution_count": null,
   "source": [
    "public class IrisData\r\n",
    "{\r\n",
    "    [LoadColumn(0)]\r\n",
    "    public float SepalLength;\r\n",
    "\r\n",
    "    [LoadColumn(1)]\r\n",
    "    public float SepalWidth;\r\n",
    "\r\n",
    "    [LoadColumn(2)]\r\n",
    "    public float PetalLength;\r\n",
    "\r\n",
    "    [LoadColumn(3)]\r\n",
    "    public float PetalWidth;\r\n",
    "}"
   ],
   "outputs": [],
   "metadata": {
    "dotnet_interactive": {
     "language": "csharp"
    }
   }
  },
  {
   "cell_type": "markdown",
   "source": [
    "Класс для отображения результата\r\n",
    "\r\n",
    "Атрибут ColumnName используется для привязки полей PredictedClusterId и Distances к столбцам PredictedLabel и Score соответственно. "
   ],
   "metadata": {}
  },
  {
   "cell_type": "code",
   "execution_count": null,
   "source": [
    "public class ClusterPrediction\r\n",
    "{\r\n",
    "    [ColumnName(\"PredictedLabel\")]\r\n",
    "    public uint PredictedClusterId;\r\n",
    "\r\n",
    "    [ColumnName(\"Score\")]\r\n",
    "    public float[] Distances;\r\n",
    "}"
   ],
   "outputs": [],
   "metadata": {
    "dotnet_interactive": {
     "language": "csharp"
    }
   }
  },
  {
   "cell_type": "markdown",
   "source": [
    "Класс Microsoft.ML.MLContext представляет среду машинного обучения и предоставляет механизмы для ведения журнала и точек входа для загрузки данных, обучения модели, прогнозирования и других задач."
   ],
   "metadata": {}
  },
  {
   "cell_type": "markdown",
   "source": [
    "Универсальный метод расширения MLContext.Data.LoadFromTextFile выводит схему набора данных на основе предоставленного типа IrisData и возвращает интерфейс IDataView, который можно использовать в качестве входных данных для преобразования."
   ],
   "metadata": {}
  },
  {
   "cell_type": "code",
   "execution_count": null,
   "source": [
    "var mlContext = new MLContext(seed: 0);\r\n",
    "IDataView dataView = mlContext.Data.LoadFromTextFile<IrisData>(_dataPath, hasHeader: false, separatorChar: ',');"
   ],
   "outputs": [],
   "metadata": {
    "dotnet_interactive": {
     "language": "csharp"
    }
   }
  },
  {
   "cell_type": "markdown",
   "source": [
    "Делим исходные данные на 3 кластера\r\n",
    "\r\n",
    "1. Объединяем загруженные столбцы в один столбец \"Функции\", который используется тренером кластеризации;\r\n",
    "2. Для обучения используем тренер KMeansTrainer с помощью алгоритма кластеризации k-means++."
   ],
   "metadata": {}
  },
  {
   "cell_type": "markdown",
   "source": [
    "k-means++ — улучшенная версия алгоритма кластеризации k-means. Суть улучшения заключается в нахождении более «хороших» начальных значений центроидов кластеров."
   ],
   "metadata": {}
  },
  {
   "cell_type": "code",
   "execution_count": null,
   "source": [
    "string featuresColumnName = \"Features\";\r\n",
    "var pipeline = mlContext.Transforms\r\n",
    "    .Concatenate(featuresColumnName, \"SepalLength\", \"SepalWidth\", \"PetalLength\", \"PetalWidth\")\r\n",
    "    .Append(mlContext.Clustering.Trainers.KMeans(featuresColumnName, numberOfClusters: 3));"
   ],
   "outputs": [],
   "metadata": {
    "dotnet_interactive": {
     "language": "csharp"
    }
   }
  },
  {
   "cell_type": "markdown",
   "source": [
    "Обучаем модель"
   ],
   "metadata": {}
  },
  {
   "cell_type": "code",
   "execution_count": null,
   "source": [
    "var model = pipeline.Fit(dataView);"
   ],
   "outputs": [],
   "metadata": {
    "dotnet_interactive": {
     "language": "csharp"
    }
   }
  },
  {
   "cell_type": "markdown",
   "source": [
    "Чтобы получить прогноз, используем класс PredictionEngine<TSrc,TDst>, который принимает экземпляры входного типа через конвейер преобразователя и создает экземпляры выходного типа."
   ],
   "metadata": {}
  },
  {
   "cell_type": "code",
   "execution_count": null,
   "source": [
    "var predictor = mlContext.Model.CreatePredictionEngine<IrisData, ClusterPrediction>(model);"
   ],
   "outputs": [],
   "metadata": {
    "dotnet_interactive": {
     "language": "csharp"
    }
   }
  },
  {
   "cell_type": "markdown",
   "source": [
    "Создаём тестовые данные"
   ],
   "metadata": {}
  },
  {
   "cell_type": "code",
   "execution_count": null,
   "source": [
    "static class TestIrisData\r\n",
    "{\r\n",
    "    internal static readonly IrisData Setosa = new IrisData\r\n",
    "    {\r\n",
    "        SepalLength = 5.1f,\r\n",
    "        SepalWidth = 3.5f,\r\n",
    "        PetalLength = 1.4f,\r\n",
    "        PetalWidth = 0.2f\r\n",
    "    };\r\n",
    "}"
   ],
   "outputs": [],
   "metadata": {
    "dotnet_interactive": {
     "language": "csharp"
    }
   }
  },
  {
   "cell_type": "markdown",
   "source": [
    "Проводим предположение и выводим его! "
   ],
   "metadata": {}
  },
  {
   "cell_type": "code",
   "execution_count": null,
   "source": [
    "var prediction = predictor.Predict(TestIrisData.Setosa);\r\n",
    "Console.WriteLine($\"Cluster: {prediction.PredictedClusterId}\");\r\n",
    "Console.WriteLine($\"Distances: {string.Join(\" \", prediction.Distances)}\");"
   ],
   "outputs": [
    {
     "data": {
      "text/plain": [
       "Cluster: 2\r\n"
      ]
     },
     "metadata": {},
     "output_type": "display_data"
    },
    {
     "data": {
      "text/plain": [
       "Distances: 25,314243 0,021591187 11,645229\r\n"
      ]
     },
     "metadata": {},
     "output_type": "display_data"
    }
   ],
   "metadata": {
    "dotnet_interactive": {
     "language": "csharp"
    }
   }
  }
 ],
 "nbformat": 4,
 "nbformat_minor": 2
}