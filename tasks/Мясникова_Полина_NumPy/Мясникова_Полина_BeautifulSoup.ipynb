{
 "cells": [
  {
   "cell_type": "markdown",
   "metadata": {},
   "source": [
    "## Содержание:\n",
    "* [Введение](#first-bullet)\n",
    "* [Создание скрипта скрапинга](#second-bullet)\n",
    "* [Парсинг HTML-разметки](#third-bullet)\n",
    "* [Свойство text библиотеки Beautiful Soup](#fourth-bullet)\n",
    "* [Скрапинг с учетом пагинации](#fifth-bullet)\n",
    "* [Скрапинг изображений](#sixth-bullet)\n",
    "* [Скрапинг таблицы](#seventh-bullet)"
   ]
  },
  {
   "cell_type": "markdown",
   "metadata": {},
   "source": [
    "## Введение <a class=\"anchor\" id=\"first-bullet\"></a>"
   ]
  },
  {
   "cell_type": "markdown",
   "metadata": {},
   "source": [
    "Beautiful Soup - это парсер для синтаксического разбора файлов HTML/XML, написанный на языке программирования Python, который может преобразовать даже неправильную разметку в дерево синтаксического разбора. Он поддерживает простые и естественные способы навигации, поиска и модификации дерева синтаксического разбора.\n",
    "\n",
    "Скрипты полученные с помощью Beautiful Soup можно использовать для сбора и компиляции данных из интернета, а результат — как для анализа данных, так и для других сценариев."
   ]
  },
  {
   "cell_type": "markdown",
   "metadata": {},
   "source": [
    "Перед изучением следуюет установить саму библиотеку BeautifulSoup, а так же lxml и requests"
   ]
  },
  {
   "cell_type": "code",
   "execution_count": null,
   "metadata": {},
   "outputs": [],
   "source": [
    "#pip install beautifulsoup4\n",
    "#pip install lxml\n",
    "#pip install requests\n",
    "#pip install pandas"
   ]
  },
  {
   "cell_type": "markdown",
   "metadata": {},
   "source": [
    "Импортируем нужные библиотеки "
   ]
  },
  {
   "cell_type": "code",
   "execution_count": 3,
   "metadata": {},
   "outputs": [],
   "source": [
    "import requests\n",
    "from bs4 import BeautifulSoup"
   ]
  },
  {
   "cell_type": "markdown",
   "metadata": {},
   "source": [
    "## Создание скрипта скрапинга <a class=\"anchor\" id=\"second-bullet\"></a>"
   ]
  },
  {
   "cell_type": "markdown",
   "metadata": {},
   "source": [
    "Для знакомства с процессом скрапинга мы будем использовать сайт https://quotes.toscrape.com/"
   ]
  },
  {
   "cell_type": "markdown",
   "metadata": {},
   "source": [
    "Считываем код страницы с помощью библиотеки requests и используем конструктор BeautifulSoup(), чтобы поместить текст ответа в переменную soup"
   ]
  },
  {
   "cell_type": "code",
   "execution_count": 4,
   "metadata": {},
   "outputs": [
    {
     "name": "stdout",
     "output_type": "stream",
     "text": [
      "<!DOCTYPE html>\n",
      "<html lang=\"en\">\n",
      "<head>\n",
      "<meta charset=\"utf-8\"/>\n",
      "<title>Quotes to Scrape</title>\n",
      "<link href=\"/static/bootstrap.min.css\" rel=\"stylesheet\"/>\n",
      "<link href=\"/static/main.css\" rel=\"stylesheet\"/>\n",
      "</head>\n",
      "<body>\n",
      "<div class=\"container\">\n",
      "<div class=\"row header-box\">\n",
      "<div class=\"col-md-8\">\n",
      "<h1>\n",
      "<a href=\"/\" style=\"text-decoration: none\">Quotes to Scrape</a>\n",
      "</h1>\n",
      "</div>\n",
      "<div class=\"col-md-4\">\n",
      "<p>\n",
      "<a href=\"/login\">Login</a>\n",
      "</p>\n",
      "</div>\n",
      "</div>\n",
      "<div class=\"row\">\n",
      "<div class=\"col-md-8\">\n",
      "<div class=\"quote\" itemscope=\"\" itemtype=\"http://schema.org/CreativeWork\">\n",
      "<span class=\"text\" itemprop=\"text\">“The world as we have created it is a process of our thinking. It cannot be changed without changing our thinking.”</span>\n",
      "<span>by <small class=\"author\" itemprop=\"author\">Albert Einstein</small>\n",
      "<a href=\"/author/Albert-Einstein\">(about)</a>\n",
      "</span>\n",
      "<div class=\"tags\">\n",
      "            Tags:\n",
      "            <meta class=\"keywords\" content=\"change,deep-thoughts,thinking,world\" itemprop=\"keywords\"/>\n",
      "<a class=\"tag\" href=\"/tag/change/page/1/\">change</a>\n",
      "<a class=\"tag\" href=\"/tag/deep-thoughts/page/1/\">deep-thoughts</a>\n",
      "<a class=\"tag\" href=\"/tag/thinking/page/1/\">thinking</a>\n",
      "<a class=\"tag\" href=\"/tag/world/page/1/\">world</a>\n",
      "</div>\n",
      "</div>\n",
      "<div class=\"quote\" itemscope=\"\" itemtype=\"http://schema.org/CreativeWork\">\n",
      "<span class=\"text\" itemprop=\"text\">“It is our choices, Harry, that show what we truly are, far more than our abilities.”</span>\n",
      "<span>by <small class=\"author\" itemprop=\"author\">J.K. Rowling</small>\n",
      "<a href=\"/author/J-K-Rowling\">(about)</a>\n",
      "</span>\n",
      "<div class=\"tags\">\n",
      "            Tags:\n",
      "            <meta class=\"keywords\" content=\"abilities,choices\" itemprop=\"keywords\"/>\n",
      "<a class=\"tag\" href=\"/tag/abilities/page/1/\">abilities</a>\n",
      "<a class=\"tag\" href=\"/tag/choices/page/1/\">choices</a>\n",
      "</div>\n",
      "</div>\n",
      "<div class=\"quote\" itemscope=\"\" itemtype=\"http://schema.org/CreativeWork\">\n",
      "<span class=\"text\" itemprop=\"text\">“There are only two ways to live your life. One is as though nothing is a miracle. The other is as though everything is a miracle.”</span>\n",
      "<span>by <small class=\"author\" itemprop=\"author\">Albert Einstein</small>\n",
      "<a href=\"/author/Albert-Einstein\">(about)</a>\n",
      "</span>\n",
      "<div class=\"tags\">\n",
      "            Tags:\n",
      "            <meta class=\"keywords\" content=\"inspirational,life,live,miracle,miracles\" itemprop=\"keywords\"/>\n",
      "<a class=\"tag\" href=\"/tag/inspirational/page/1/\">inspirational</a>\n",
      "<a class=\"tag\" href=\"/tag/life/page/1/\">life</a>\n",
      "<a class=\"tag\" href=\"/tag/live/page/1/\">live</a>\n",
      "<a class=\"tag\" href=\"/tag/miracle/page/1/\">miracle</a>\n",
      "<a class=\"tag\" href=\"/tag/miracles/page/1/\">miracles</a>\n",
      "</div>\n",
      "</div>\n",
      "<div class=\"quote\" itemscope=\"\" itemtype=\"http://schema.org/CreativeWork\">\n",
      "<span class=\"text\" itemprop=\"text\">“The person, be it gentleman or lady, who has not pleasure in a good novel, must be intolerably stupid.”</span>\n",
      "<span>by <small class=\"author\" itemprop=\"author\">Jane Austen</small>\n",
      "<a href=\"/author/Jane-Austen\">(about)</a>\n",
      "</span>\n",
      "<div class=\"tags\">\n",
      "            Tags:\n",
      "            <meta class=\"keywords\" content=\"aliteracy,books,classic,humor\" itemprop=\"keywords\"/>\n",
      "<a class=\"tag\" href=\"/tag/aliteracy/page/1/\">aliteracy</a>\n",
      "<a class=\"tag\" href=\"/tag/books/page/1/\">books</a>\n",
      "<a class=\"tag\" href=\"/tag/classic/page/1/\">classic</a>\n",
      "<a class=\"tag\" href=\"/tag/humor/page/1/\">humor</a>\n",
      "</div>\n",
      "</div>\n",
      "<div class=\"quote\" itemscope=\"\" itemtype=\"http://schema.org/CreativeWork\">\n",
      "<span class=\"text\" itemprop=\"text\">“Imperfection is beauty, madness is genius and it's better to be absolutely ridiculous than absolutely boring.”</span>\n",
      "<span>by <small class=\"author\" itemprop=\"author\">Marilyn Monroe</small>\n",
      "<a href=\"/author/Marilyn-Monroe\">(about)</a>\n",
      "</span>\n",
      "<div class=\"tags\">\n",
      "            Tags:\n",
      "            <meta class=\"keywords\" content=\"be-yourself,inspirational\" itemprop=\"keywords\"/>\n",
      "<a class=\"tag\" href=\"/tag/be-yourself/page/1/\">be-yourself</a>\n",
      "<a class=\"tag\" href=\"/tag/inspirational/page/1/\">inspirational</a>\n",
      "</div>\n",
      "</div>\n",
      "<div class=\"quote\" itemscope=\"\" itemtype=\"http://schema.org/CreativeWork\">\n",
      "<span class=\"text\" itemprop=\"text\">“Try not to become a man of success. Rather become a man of value.”</span>\n",
      "<span>by <small class=\"author\" itemprop=\"author\">Albert Einstein</small>\n",
      "<a href=\"/author/Albert-Einstein\">(about)</a>\n",
      "</span>\n",
      "<div class=\"tags\">\n",
      "            Tags:\n",
      "            <meta class=\"keywords\" content=\"adulthood,success,value\" itemprop=\"keywords\"/>\n",
      "<a class=\"tag\" href=\"/tag/adulthood/page/1/\">adulthood</a>\n",
      "<a class=\"tag\" href=\"/tag/success/page/1/\">success</a>\n",
      "<a class=\"tag\" href=\"/tag/value/page/1/\">value</a>\n",
      "</div>\n",
      "</div>\n",
      "<div class=\"quote\" itemscope=\"\" itemtype=\"http://schema.org/CreativeWork\">\n",
      "<span class=\"text\" itemprop=\"text\">“It is better to be hated for what you are than to be loved for what you are not.”</span>\n",
      "<span>by <small class=\"author\" itemprop=\"author\">André Gide</small>\n",
      "<a href=\"/author/Andre-Gide\">(about)</a>\n",
      "</span>\n",
      "<div class=\"tags\">\n",
      "            Tags:\n",
      "            <meta class=\"keywords\" content=\"life,love\" itemprop=\"keywords\"/>\n",
      "<a class=\"tag\" href=\"/tag/life/page/1/\">life</a>\n",
      "<a class=\"tag\" href=\"/tag/love/page/1/\">love</a>\n",
      "</div>\n",
      "</div>\n",
      "<div class=\"quote\" itemscope=\"\" itemtype=\"http://schema.org/CreativeWork\">\n",
      "<span class=\"text\" itemprop=\"text\">“I have not failed. I've just found 10,000 ways that won't work.”</span>\n",
      "<span>by <small class=\"author\" itemprop=\"author\">Thomas A. Edison</small>\n",
      "<a href=\"/author/Thomas-A-Edison\">(about)</a>\n",
      "</span>\n",
      "<div class=\"tags\">\n",
      "            Tags:\n",
      "            <meta class=\"keywords\" content=\"edison,failure,inspirational,paraphrased\" itemprop=\"keywords\"/>\n",
      "<a class=\"tag\" href=\"/tag/edison/page/1/\">edison</a>\n",
      "<a class=\"tag\" href=\"/tag/failure/page/1/\">failure</a>\n",
      "<a class=\"tag\" href=\"/tag/inspirational/page/1/\">inspirational</a>\n",
      "<a class=\"tag\" href=\"/tag/paraphrased/page/1/\">paraphrased</a>\n",
      "</div>\n",
      "</div>\n",
      "<div class=\"quote\" itemscope=\"\" itemtype=\"http://schema.org/CreativeWork\">\n",
      "<span class=\"text\" itemprop=\"text\">“A woman is like a tea bag; you never know how strong it is until it's in hot water.”</span>\n",
      "<span>by <small class=\"author\" itemprop=\"author\">Eleanor Roosevelt</small>\n",
      "<a href=\"/author/Eleanor-Roosevelt\">(about)</a>\n",
      "</span>\n",
      "<div class=\"tags\">\n",
      "            Tags:\n",
      "            <meta class=\"keywords\" content=\"misattributed-eleanor-roosevelt\" itemprop=\"keywords\"/>\n",
      "<a class=\"tag\" href=\"/tag/misattributed-eleanor-roosevelt/page/1/\">misattributed-eleanor-roosevelt</a>\n",
      "</div>\n",
      "</div>\n",
      "<div class=\"quote\" itemscope=\"\" itemtype=\"http://schema.org/CreativeWork\">\n",
      "<span class=\"text\" itemprop=\"text\">“A day without sunshine is like, you know, night.”</span>\n",
      "<span>by <small class=\"author\" itemprop=\"author\">Steve Martin</small>\n",
      "<a href=\"/author/Steve-Martin\">(about)</a>\n",
      "</span>\n",
      "<div class=\"tags\">\n",
      "            Tags:\n",
      "            <meta class=\"keywords\" content=\"humor,obvious,simile\" itemprop=\"keywords\"/>\n",
      "<a class=\"tag\" href=\"/tag/humor/page/1/\">humor</a>\n",
      "<a class=\"tag\" href=\"/tag/obvious/page/1/\">obvious</a>\n",
      "<a class=\"tag\" href=\"/tag/simile/page/1/\">simile</a>\n",
      "</div>\n",
      "</div>\n",
      "<nav>\n",
      "<ul class=\"pager\">\n",
      "<li class=\"next\">\n",
      "<a href=\"/page/2/\">Next <span aria-hidden=\"true\">→</span></a>\n",
      "</li>\n",
      "</ul>\n",
      "</nav>\n",
      "</div>\n",
      "<div class=\"col-md-4 tags-box\">\n",
      "<h2>Top Ten tags</h2>\n",
      "<span class=\"tag-item\">\n",
      "<a class=\"tag\" href=\"/tag/love/\" style=\"font-size: 28px\">love</a>\n",
      "</span>\n",
      "<span class=\"tag-item\">\n",
      "<a class=\"tag\" href=\"/tag/inspirational/\" style=\"font-size: 26px\">inspirational</a>\n",
      "</span>\n",
      "<span class=\"tag-item\">\n",
      "<a class=\"tag\" href=\"/tag/life/\" style=\"font-size: 26px\">life</a>\n",
      "</span>\n",
      "<span class=\"tag-item\">\n",
      "<a class=\"tag\" href=\"/tag/humor/\" style=\"font-size: 24px\">humor</a>\n",
      "</span>\n",
      "<span class=\"tag-item\">\n",
      "<a class=\"tag\" href=\"/tag/books/\" style=\"font-size: 22px\">books</a>\n",
      "</span>\n",
      "<span class=\"tag-item\">\n",
      "<a class=\"tag\" href=\"/tag/reading/\" style=\"font-size: 14px\">reading</a>\n",
      "</span>\n",
      "<span class=\"tag-item\">\n",
      "<a class=\"tag\" href=\"/tag/friendship/\" style=\"font-size: 10px\">friendship</a>\n",
      "</span>\n",
      "<span class=\"tag-item\">\n",
      "<a class=\"tag\" href=\"/tag/friends/\" style=\"font-size: 8px\">friends</a>\n",
      "</span>\n",
      "<span class=\"tag-item\">\n",
      "<a class=\"tag\" href=\"/tag/truth/\" style=\"font-size: 8px\">truth</a>\n",
      "</span>\n",
      "<span class=\"tag-item\">\n",
      "<a class=\"tag\" href=\"/tag/simile/\" style=\"font-size: 6px\">simile</a>\n",
      "</span>\n",
      "</div>\n",
      "</div>\n",
      "</div>\n",
      "<footer class=\"footer\">\n",
      "<div class=\"container\">\n",
      "<p class=\"text-muted\">\n",
      "                Quotes by: <a href=\"https://www.goodreads.com/quotes\">GoodReads.com</a>\n",
      "</p>\n",
      "<p class=\"copyright\">\n",
      "                Made with <span class=\"sh-red\">❤</span> by <a href=\"https://scrapinghub.com\">Scrapinghub</a>\n",
      "</p>\n",
      "</div>\n",
      "</footer>\n",
      "</body>\n",
      "</html>\n"
     ]
    }
   ],
   "source": [
    "url = 'https://quotes.toscrape.com/'\n",
    "response = requests.get(url)\n",
    "soup = BeautifulSoup(response.text, 'lxml')\n",
    "\n",
    "print(soup)"
   ]
  },
  {
   "cell_type": "markdown",
   "metadata": {},
   "source": [
    "## Парсинг HTML-разметки <a class=\"anchor\" id=\"third-bullet\"></a>"
   ]
  },
  {
   "cell_type": "markdown",
   "metadata": {},
   "source": [
    "HTML — это HyperText Markup Language («язык гипертекстовой разметки»), который работает за счет распространения элементов документа со специальными тегами. И благодаря Beautiful Soup проще находить нужные данные аренитируясь по тегам и классам в разметке. Вот например попробуем найти все теги span с классом text. "
   ]
  },
  {
   "cell_type": "code",
   "execution_count": 9,
   "metadata": {},
   "outputs": [
    {
     "name": "stdout",
     "output_type": "stream",
     "text": [
      "<span class=\"text\" itemprop=\"text\">“The world as we have created it is a process of our thinking. It cannot be changed without changing our thinking.”</span>\n",
      "\n",
      "<span class=\"text\" itemprop=\"text\">“It is our choices, Harry, that show what we truly are, far more than our abilities.”</span>\n",
      "\n",
      "<span class=\"text\" itemprop=\"text\">“There are only two ways to live your life. One is as though nothing is a miracle. The other is as though everything is a miracle.”</span>\n",
      "\n",
      "<span class=\"text\" itemprop=\"text\">“The person, be it gentleman or lady, who has not pleasure in a good novel, must be intolerably stupid.”</span>\n",
      "\n",
      "<span class=\"text\" itemprop=\"text\">“Imperfection is beauty, madness is genius and it's better to be absolutely ridiculous than absolutely boring.”</span>\n",
      "\n",
      "<span class=\"text\" itemprop=\"text\">“Try not to become a man of success. Rather become a man of value.”</span>\n",
      "\n",
      "<span class=\"text\" itemprop=\"text\">“It is better to be hated for what you are than to be loved for what you are not.”</span>\n",
      "\n",
      "<span class=\"text\" itemprop=\"text\">“I have not failed. I've just found 10,000 ways that won't work.”</span>\n",
      "\n",
      "<span class=\"text\" itemprop=\"text\">“A woman is like a tea bag; you never know how strong it is until it's in hot water.”</span>\n",
      "\n",
      "<span class=\"text\" itemprop=\"text\">“A day without sunshine is like, you know, night.”</span>\n"
     ]
    }
   ],
   "source": [
    "url = 'https://quotes.toscrape.com/'      \n",
    "response = requests.get(url)\n",
    "soup = BeautifulSoup(response.text, 'lxml')\n",
    "\n",
    "quotes = soup.find_all('span', class_='text')\n",
    "\n",
    "print(*quotes, sep='\\n\\n') "
   ]
  },
  {
   "cell_type": "markdown",
   "metadata": {},
   "source": [
    "## Свойство text библиотеки Beautiful Soup <a class=\"anchor\" id=\"fourth-bullet\"></a>"
   ]
  },
  {
   "cell_type": "markdown",
   "metadata": {},
   "source": [
    "Для получения только данных (текста) — цитат в этом случае — можно использовать свойство .text из библиотеки Beautiful Soup. Обратите внимание на код, где происходит перебор всех полученных данных с выводом только нужного содержимого."
   ]
  },
  {
   "cell_type": "code",
   "execution_count": 12,
   "metadata": {},
   "outputs": [
    {
     "name": "stdout",
     "output_type": "stream",
     "text": [
      "“The world as we have created it is a process of our thinking. It cannot be changed without changing our thinking.”\n",
      "\n",
      "“It is our choices, Harry, that show what we truly are, far more than our abilities.”\n",
      "\n",
      "“There are only two ways to live your life. One is as though nothing is a miracle. The other is as though everything is a miracle.”\n",
      "\n",
      "“The person, be it gentleman or lady, who has not pleasure in a good novel, must be intolerably stupid.”\n",
      "\n",
      "“Imperfection is beauty, madness is genius and it's better to be absolutely ridiculous than absolutely boring.”\n",
      "\n",
      "“Try not to become a man of success. Rather become a man of value.”\n",
      "\n",
      "“It is better to be hated for what you are than to be loved for what you are not.”\n",
      "\n",
      "“I have not failed. I've just found 10,000 ways that won't work.”\n",
      "\n",
      "“A woman is like a tea bag; you never know how strong it is until it's in hot water.”\n",
      "\n",
      "“A day without sunshine is like, you know, night.”\n",
      "\n"
     ]
    }
   ],
   "source": [
    "quotes = soup.find_all('span', class_='text') #строчка идентична предыдущему примеру\n",
    "\n",
    "for quote in quotes:\n",
    "    print(quote.text + '\\n')"
   ]
  },
  {
   "cell_type": "markdown",
   "metadata": {},
   "source": [
    "Можно улучшить вывод и добавить под строчки авторов. Работаем по тому же принципу — сперва нужно вручную изучить страницу. Можно обратить внимание на то, что каждый автор заключен в тег <small> с классом author. Дальше используем функцию find_all() и сохраняем результат в переменной authors."
   ]
  },
  {
   "cell_type": "code",
   "execution_count": 14,
   "metadata": {},
   "outputs": [
    {
     "name": "stdout",
     "output_type": "stream",
     "text": [
      "“The world as we have created it is a process of our thinking. It cannot be changed without changing our thinking.”\n",
      "---Albert Einstein\n",
      "\n",
      "“It is our choices, Harry, that show what we truly are, far more than our abilities.”\n",
      "---J.K. Rowling\n",
      "\n",
      "“There are only two ways to live your life. One is as though nothing is a miracle. The other is as though everything is a miracle.”\n",
      "---Albert Einstein\n",
      "\n",
      "“The person, be it gentleman or lady, who has not pleasure in a good novel, must be intolerably stupid.”\n",
      "---Jane Austen\n",
      "\n",
      "“Imperfection is beauty, madness is genius and it's better to be absolutely ridiculous than absolutely boring.”\n",
      "---Marilyn Monroe\n",
      "\n",
      "“Try not to become a man of success. Rather become a man of value.”\n",
      "---Albert Einstein\n",
      "\n",
      "“It is better to be hated for what you are than to be loved for what you are not.”\n",
      "---André Gide\n",
      "\n",
      "“I have not failed. I've just found 10,000 ways that won't work.”\n",
      "---Thomas A. Edison\n",
      "\n",
      "“A woman is like a tea bag; you never know how strong it is until it's in hot water.”\n",
      "---Eleanor Roosevelt\n",
      "\n",
      "“A day without sunshine is like, you know, night.”\n",
      "---Steve Martin\n",
      "\n"
     ]
    }
   ],
   "source": [
    "authors = soup.find_all('small', class_='author')\n",
    "\n",
    "for i in range(0, len(quotes)):\n",
    "    print(quotes[i].text)\n",
    "    print('---' + authors[i].text + '\\n')"
   ]
  },
  {
   "cell_type": "markdown",
   "metadata": {},
   "source": [
    "Наконец, добавим код получения всех тегов для каждой цитаты, но чтобы вевести каждой цитате соответственные теги, для начала нужно считать все списки тегов. Потом отдельным циклом будем приписывать нужные теги."
   ]
  },
  {
   "cell_type": "code",
   "execution_count": 16,
   "metadata": {},
   "outputs": [
    {
     "name": "stdout",
     "output_type": "stream",
     "text": [
      "“The world as we have created it is a process of our thinking. It cannot be changed without changing our thinking.”\n",
      "--Albert Einstein\n",
      "Tags:\n",
      "*change\n",
      "*deep-thoughts\n",
      "*thinking\n",
      "*world\n",
      "\n",
      "“It is our choices, Harry, that show what we truly are, far more than our abilities.”\n",
      "--J.K. Rowling\n",
      "Tags:\n",
      "*abilities\n",
      "*choices\n",
      "\n",
      "“There are only two ways to live your life. One is as though nothing is a miracle. The other is as though everything is a miracle.”\n",
      "--Albert Einstein\n",
      "Tags:\n",
      "*inspirational\n",
      "*life\n",
      "*live\n",
      "*miracle\n",
      "*miracles\n",
      "\n",
      "“The person, be it gentleman or lady, who has not pleasure in a good novel, must be intolerably stupid.”\n",
      "--Jane Austen\n",
      "Tags:\n",
      "*aliteracy\n",
      "*books\n",
      "*classic\n",
      "*humor\n",
      "\n",
      "“Imperfection is beauty, madness is genius and it's better to be absolutely ridiculous than absolutely boring.”\n",
      "--Marilyn Monroe\n",
      "Tags:\n",
      "*be-yourself\n",
      "*inspirational\n",
      "\n",
      "“Try not to become a man of success. Rather become a man of value.”\n",
      "--Albert Einstein\n",
      "Tags:\n",
      "*adulthood\n",
      "*success\n",
      "*value\n",
      "\n",
      "“It is better to be hated for what you are than to be loved for what you are not.”\n",
      "--André Gide\n",
      "Tags:\n",
      "*life\n",
      "*love\n",
      "\n",
      "“I have not failed. I've just found 10,000 ways that won't work.”\n",
      "--Thomas A. Edison\n",
      "Tags:\n",
      "*edison\n",
      "*failure\n",
      "*inspirational\n",
      "*paraphrased\n",
      "\n",
      "“A woman is like a tea bag; you never know how strong it is until it's in hot water.”\n",
      "--Eleanor Roosevelt\n",
      "Tags:\n",
      "*misattributed-eleanor-roosevelt\n",
      "\n",
      "“A day without sunshine is like, you know, night.”\n",
      "--Steve Martin\n",
      "Tags:\n",
      "*humor\n",
      "*obvious\n",
      "*simile\n",
      "\n"
     ]
    }
   ],
   "source": [
    "tags = soup.find_all('div', class_='tags')\n",
    "\n",
    "for i in range(0, len(quotes)):\n",
    "    print(quotes[i].text)\n",
    "    print('--' + authors[i].text)\n",
    "    print('Tags:')\n",
    "    tagsforquote = tags[i].find_all('a', class_='tag')\n",
    "    for tagforquote in tagsforquote:\n",
    "        print('*' + tagforquote.text)\n",
    "    print()"
   ]
  },
  {
   "cell_type": "markdown",
   "metadata": {},
   "source": [
    "## Скрапинг с учетом пагинации <a class=\"anchor\" id=\"fifth-bullet\"></a>"
   ]
  },
  {
   "cell_type": "markdown",
   "metadata": {},
   "source": [
    "Для этого примера используем другой сайт: https://scrapingclub.com/exercise/list_basic/?page=1\n",
    "\n",
    "Допустим у нас есть сайт, который ведет на одну страницу коллекции, включающей на самом деле несколько страниц. На это указывает page=1 в адресе. Скрипт Beautiful Soup можно настроить и так, чтобы скрапинг происходил на нескольких страницах.\n",
    "\n",
    "Наша основная задача - извлечь название элемента и его цену, отобразив данные в виде списка."
   ]
  },
  {
   "cell_type": "markdown",
   "metadata": {},
   "source": [
    "Создаём скрипт скрапинга для этого сайта "
   ]
  },
  {
   "cell_type": "code",
   "execution_count": 5,
   "metadata": {
    "scrolled": false
   },
   "outputs": [],
   "source": [
    "url = 'https://scrapingclub.com/exercise/list_basic/?page=1'\n",
    "response = requests.get(url)\n",
    "soup = BeautifulSoup(response.text, 'lxml')\n",
    "\n",
    "#print(soup)"
   ]
  },
  {
   "cell_type": "markdown",
   "metadata": {},
   "source": [
    "Код будет выглядить следующим образом:"
   ]
  },
  {
   "cell_type": "code",
   "execution_count": 22,
   "metadata": {},
   "outputs": [
    {
     "name": "stdout",
     "output_type": "stream",
     "text": [
      "1:  $24.99 за Short Dress\n",
      "2:  $29.99 за Patterned Slacks\n",
      "3:  $49.99 за Short Chiffon Dress\n",
      "4:  $59.99 за Off-the-shoulder Dress\n",
      "5:  $24.99 за V-neck Top\n",
      "6:  $49.99 за Short Chiffon Dress\n",
      "7:  $24.99 за V-neck Top\n",
      "8:  $24.99 за V-neck Top\n",
      "9:  $59.99 за Short Lace Dress\n",
      "9:  $34.99 за Fitted Dress\n",
      "10:  $69.99 за V-neck Jumpsuit\n",
      "11:  $54.99 за Chiffon Dress\n",
      "12:  $39.99 за Skinny High Waist Jeans\n",
      "13:  $19.99 за Super Skinny High Jeans\n",
      "14:  $19.99 за Oversized Denim Jacket\n",
      "15:  $24.99 за Short Sweatshirt\n",
      "16:  $12.99 за Long-sleeved Jersey Top\n",
      "17:  $39.99 за Skinny High Waist Jeans\n",
      "17:  $24.99 за Short Sweatshirt\n",
      "18:  $12.99 за Long-sleeved Jersey Top\n",
      "19:  $12.99 за Long-sleeved Jersey Top\n",
      "20:  $19.99 за Jersey Dress\n",
      "21:  $24.99 за Short Sweatshirt\n",
      "22:  $24.99 за Crinkled Flounced Blouse\n",
      "23:  $29.99 за Bib Overall Dress\n",
      "24:  $17.99 за Loose-knit Sweater\n",
      "25:  $29.99 за Skinny Regular Jeans\n",
      "25:  $12.99 за Henley-style Top\n",
      "26:  $17.99 за Joggers\n",
      "27:  $34.99 за Skirt with Lacing\n",
      "28:  $17.99 за Top with Tie\n",
      "29:  $34.99 за Joggers\n",
      "30:  $49.99 за Chiffon Dress with Flounce\n",
      "31:  $34.99 за Skirt with Lacing\n",
      "32:  $9.99 за V-neck Top\n",
      "33:  $29.99 за Hooded Jacket\n",
      "33:  $29.99 за Hooded Top\n",
      "34:  $34.99 за Lyocell-blend Blouse\n",
      "35:  $29.99 за Bib Overall Dress\n",
      "36:  $34.99 за Wide-leg Pants\n",
      "37:  $24.99 за Ankle-length Slim-fit Pants\n",
      "38:  $9.99 за Short Sweatshirt\n",
      "39:  $17.99 за V-neck Blouse\n",
      "40:  $24.99 за Short Skirt\n",
      "41:  $17.99 за Mesh T-shirt\n",
      "41:  $59.99 за Blouse with Embroidery\n",
      "42:  $34.99 за Wide-cut Cotton Top\n",
      "43:  $54.99 за Pleated Skirt\n",
      "44:  $69.99 за Coat\n",
      "45:  $49.99 за Wide-leg Pants\n",
      "46:  $29.99 за Top\n",
      "47:  $69.99 за Knit Mohair-blend Sweater\n",
      "48:  $69.99 за Dress\n",
      "49:  $29.99 за T-shirt with Embroidery\n",
      "49:  $49.99 за Blouse with Ruffled Collar\n",
      "50:  $49.99 за Pants\n",
      "51:  $19.99 за Jersey Dress\n",
      "52:  $6.99 за T-shirt\n",
      "53:  $6.99 за T-shirt\n",
      "54:  $49.99 за Blazer\n"
     ]
    }
   ],
   "source": [
    "items = soup.find_all('div', class_='col-lg-4 col-md-6 mb-4') \n",
    "\n",
    "for n, i in enumerate(items, start=1):  #перечисление с первой страницы\n",
    "    itemName = i.find('h4', class_='card-title').text.strip()\n",
    "    itemPrice = i.find('h5').text\n",
    "    print(f'{n}:  {itemPrice} за {itemName}')\n",
    "\n",
    "pages = soup.find('ul', class_='pagination') #тег перемещения по страницам сайта \n",
    "urls = []\n",
    "links = pages.find_all('a', class_='page-link') # все страницы\n",
    "\n",
    "for link in links:  #заполняем массив ссылок\n",
    "    pageNum = int(link.text) if link.text.isdigit() else None\n",
    "    if pageNum != None:\n",
    "        hrefval = link.get('href')\n",
    "        urls.append(hrefval)\n",
    "\n",
    "for slug in urls:  # проходим по каждой ссылке и вытаскиваес из кода страницы нужную нам информацию\n",
    "    newUrl = url.replace('?page=1', slug)\n",
    "    response = requests.get(newUrl)\n",
    "    soup = BeautifulSoup(response.text, 'lxml')\n",
    "    items = soup.find_all('div', class_='col-lg-4 col-md-6 mb-4')\n",
    "    for n, i in enumerate(items, start=n):\n",
    "        itemName = i.find('h4', class_='card-title').text.strip()\n",
    "        itemPrice = i.find('h5').text\n",
    "        print(f'{n}:  {itemPrice} за {itemName}')"
   ]
  },
  {
   "cell_type": "markdown",
   "metadata": {},
   "source": [
    "## Скрапинг изображений <a class=\"anchor\" id=\"sixth-bullet\"></a>"
   ]
  },
  {
   "cell_type": "markdown",
   "metadata": {},
   "source": [
    "С помощью Beautiful Soup можно собрать только ссылки на картинки сайта. \n",
    "\n",
    "Для примера используем сайт с картинками: https://bipbap.ru/krasivye-kartinki/kartinki-krasivye-s-koshkami-35-foto.html"
   ]
  },
  {
   "cell_type": "code",
   "execution_count": 37,
   "metadata": {},
   "outputs": [
    {
     "name": "stdout",
     "output_type": "stream",
     "text": [
      "https://bipbap.ru/wp-content/uploads/2017/05/1476347564_krasavicy-koshki-i-koty-1.jpg\n",
      "https://bipbap.ru/wp-content/uploads/2017/05/14051744_1062109847175848_4605853089502085177_n.jpg\n",
      "https://bipbap.ru/wp-content/uploads/2017/05/full.jpg\n",
      "https://bipbap.ru/wp-content/uploads/2017/05/Samye_dorogie_koshki_10.jpg\n",
      "https://bipbap.ru/wp-content/uploads/2017/05/1-11.jpg\n",
      "https://bipbap.ru/wp-content/uploads/2017/05/31.png\n",
      "https://bipbap.ru/wp-content/uploads/2017/05/102.jpg\n",
      "https://bipbap.ru/wp-content/uploads/2017/05/3099.jpg\n",
      "https://bipbap.ru/wp-content/uploads/2017/05/6065635.jpg\n",
      "https://bipbap.ru/wp-content/uploads/2017/05/1320080644_britanskaya-koshka-004.jpg\n",
      "https://bipbap.ru/wp-content/uploads/2017/05/1452337453_foto1.jpg\n",
      "https://bipbap.ru/wp-content/uploads/2017/05/1476347519_krasavicy-koshki-i-koty-2.jpg\n",
      "https://bipbap.ru/wp-content/uploads/2017/05/1476347855_krasavicy-koshki-i-koty-6-1.jpg\n",
      "https://bipbap.ru/wp-content/uploads/2017/05/361531956103005.jpg\n",
      "https://bipbap.ru/wp-content/uploads/2017/05/cats-27.jpg\n",
      "https://bipbap.ru/wp-content/uploads/2017/05/d28b4b1f2c71c90e8361c1e9f5aeabb6c17cc144.jpg\n",
      "https://bipbap.ru/wp-content/uploads/2017/05/koshki-krasivie-oboi.orig_.jpg\n",
      "https://bipbap.ru/wp-content/uploads/2017/05/Krasivye-koshki-5.jpg\n",
      "https://bipbap.ru/wp-content/uploads/2017/05/luxfon.com-21290.jpg\n",
      "https://bipbap.ru/wp-content/uploads/2017/05/ragdoll-6.jpg.pagespeed.ce_.78QclEiLWb.jpg\n",
      "https://bipbap.ru/wp-content/uploads/2017/05/samaya_krasivaya_v_mire_koshka_kobi.jpg\n",
      "https://bipbap.ru/wp-content/uploads/2017/05/Samye-krasivye-koshki-1.jpg\n",
      "https://bipbap.ru/wp-content/uploads/2017/05/scottish-fold-na-podushke.jpg\n",
      "https://bipbap.ru/wp-content/uploads/2017/05/sibirskaya-koshka2.jpg\n",
      "https://bipbap.ru/wp-content/uploads/2017/05/1-Siamskaya-poroda-koshek.jpg\n",
      "https://bipbap.ru/wp-content/uploads/2017/05/2-Siamskaya-poroda-koshek.jpg\n",
      "https://bipbap.ru/wp-content/uploads/2017/05/59.jpg\n",
      "https://bipbap.ru/wp-content/uploads/2017/05/660x440_1_23c38f682dc2cd6051e1118dc91a9cb9-660x440_0xd42ee437_8278093751429021182.jpeg\n",
      "https://bipbap.ru/wp-content/uploads/2017/05/110604695_large_1308169312_010.jpg\n",
      "https://bipbap.ru/wp-content/uploads/2017/05/1452337370_foto9.jpg\n",
      "https://bipbap.ru/wp-content/uploads/2017/05/2506168729.jpg\n",
      "https://bipbap.ru/wp-content/uploads/2017/05/bombay5.jpg\n",
      "https://bipbap.ru/wp-content/uploads/2017/05/cefcdb5ff9.jpg\n",
      "https://bipbap.ru/wp-content/uploads/2017/05/e2aeabe577a73d483e2c27f68120e999.jpg\n",
      "https://bipbap.ru/wp-content/uploads/2017/05/img-20140802180736-356.jpg\n",
      "https://bipbap.ru/wp-content/uploads/2021/04/logon2-2.png\n"
     ]
    }
   ],
   "source": [
    "url = 'https://bipbap.ru/krasivye-kartinki/kartinki-krasivye-s-koshkami-35-foto.html'\n",
    "response = requests.get(url)\n",
    "soup = BeautifulSoup(response.text, 'lxml')\n",
    "\n",
    "imgs = soup.findAll(\"img\", {\"itemprop\":\"url image\"})\n",
    "for img in imgs:\n",
    "        print (img['src'])"
   ]
  },
  {
   "cell_type": "markdown",
   "metadata": {},
   "source": [
    "## Скрапинг таблицы <a class=\"anchor\" id=\"seventh-bullet\"></a>"
   ]
  },
  {
   "cell_type": "markdown",
   "metadata": {},
   "source": [
    "Для примера будем использовать сайт из википедии https://en.wikipedia.org/wiki/World_population"
   ]
  },
  {
   "cell_type": "markdown",
   "metadata": {},
   "source": [
    "Импортируем библиотеку Pandas и созданим скрипт скрапинга"
   ]
  },
  {
   "cell_type": "code",
   "execution_count": 17,
   "metadata": {},
   "outputs": [],
   "source": [
    "import pandas as pd\n",
    "\n",
    "url = 'https://en.wikipedia.org/wiki/World_population'\n",
    "response = requests.get(url)\n",
    "soup = BeautifulSoup(response.text, 'html5lib') #html5lib - медленее, но мягче (лучше использовать его, если HTML сломан) "
   ]
  },
  {
   "cell_type": "markdown",
   "metadata": {},
   "source": [
    "Код для создания таблицы будет выглядить следующим образом:"
   ]
  },
  {
   "cell_type": "code",
   "execution_count": 32,
   "metadata": {},
   "outputs": [
    {
     "data": {
      "text/html": [
       "<div>\n",
       "<style scoped>\n",
       "    .dataframe tbody tr th:only-of-type {\n",
       "        vertical-align: middle;\n",
       "    }\n",
       "\n",
       "    .dataframe tbody tr th {\n",
       "        vertical-align: top;\n",
       "    }\n",
       "\n",
       "    .dataframe thead th {\n",
       "        text-align: right;\n",
       "    }\n",
       "</style>\n",
       "<table border=\"1\" class=\"dataframe\">\n",
       "  <thead>\n",
       "    <tr style=\"text-align: right;\">\n",
       "      <th></th>\n",
       "      <th>Rank</th>\n",
       "      <th>Country</th>\n",
       "      <th>Population</th>\n",
       "      <th>Area</th>\n",
       "      <th>Density</th>\n",
       "    </tr>\n",
       "  </thead>\n",
       "  <tbody>\n",
       "    <tr>\n",
       "      <th>0</th>\n",
       "      <td>1</td>\n",
       "      <td>Singapore</td>\n",
       "      <td>5,704,000</td>\n",
       "      <td>710</td>\n",
       "      <td>8,033</td>\n",
       "    </tr>\n",
       "    <tr>\n",
       "      <th>1</th>\n",
       "      <td>2</td>\n",
       "      <td>Bangladesh</td>\n",
       "      <td>171,070,000</td>\n",
       "      <td>143,998</td>\n",
       "      <td>1,188</td>\n",
       "    </tr>\n",
       "    <tr>\n",
       "      <th>2</th>\n",
       "      <td>3</td>\n",
       "      <td>Lebanon</td>\n",
       "      <td>6,856,000</td>\n",
       "      <td>10,452</td>\n",
       "      <td>656</td>\n",
       "    </tr>\n",
       "    <tr>\n",
       "      <th>3</th>\n",
       "      <td>4</td>\n",
       "      <td>Taiwan</td>\n",
       "      <td>23,604,000</td>\n",
       "      <td>36,193</td>\n",
       "      <td>652</td>\n",
       "    </tr>\n",
       "    <tr>\n",
       "      <th>4</th>\n",
       "      <td>5</td>\n",
       "      <td>South Korea</td>\n",
       "      <td>51,781,000</td>\n",
       "      <td>99,538</td>\n",
       "      <td>520</td>\n",
       "    </tr>\n",
       "    <tr>\n",
       "      <th>5</th>\n",
       "      <td>6</td>\n",
       "      <td>Rwanda</td>\n",
       "      <td>12,374,000</td>\n",
       "      <td>26,338</td>\n",
       "      <td>470</td>\n",
       "    </tr>\n",
       "    <tr>\n",
       "      <th>6</th>\n",
       "      <td>7</td>\n",
       "      <td>Haiti</td>\n",
       "      <td>11,578,000</td>\n",
       "      <td>27,065</td>\n",
       "      <td>428</td>\n",
       "    </tr>\n",
       "    <tr>\n",
       "      <th>7</th>\n",
       "      <td>8</td>\n",
       "      <td>Netherlands</td>\n",
       "      <td>17,620,000</td>\n",
       "      <td>41,526</td>\n",
       "      <td>424</td>\n",
       "    </tr>\n",
       "    <tr>\n",
       "      <th>8</th>\n",
       "      <td>9</td>\n",
       "      <td>Israel</td>\n",
       "      <td>9,380,000</td>\n",
       "      <td>22,072</td>\n",
       "      <td>425</td>\n",
       "    </tr>\n",
       "    <tr>\n",
       "      <th>9</th>\n",
       "      <td>10</td>\n",
       "      <td>India</td>\n",
       "      <td>1,379,860,000</td>\n",
       "      <td>3,287,240</td>\n",
       "      <td>420</td>\n",
       "    </tr>\n",
       "  </tbody>\n",
       "</table>\n",
       "</div>"
      ],
      "text/plain": [
       "  Rank       Country     Population       Area Density\n",
       "0    1     Singapore      5,704,000        710   8,033\n",
       "1    2    Bangladesh    171,070,000    143,998   1,188\n",
       "2    3       Lebanon      6,856,000     10,452     656\n",
       "3    4        Taiwan     23,604,000     36,193     652\n",
       "4    5   South Korea     51,781,000     99,538     520\n",
       "5    6        Rwanda     12,374,000     26,338     470\n",
       "6    7         Haiti     11,578,000     27,065     428\n",
       "7    8   Netherlands     17,620,000     41,526     424\n",
       "8    9        Israel      9,380,000     22,072     425\n",
       "9   10         India  1,379,860,000  3,287,240     420"
      ]
     },
     "execution_count": 32,
     "metadata": {},
     "output_type": "execute_result"
    }
   ],
   "source": [
    "tables = soup.find_all('table')\n",
    "population_data = pd.DataFrame(columns=['Rank', 'Country', 'Population', 'Area', 'Density'])\n",
    "\n",
    "for row in tables[5].tbody.find_all('tr'):\n",
    "    col = row.find_all('td')\n",
    "    if (col != []):\n",
    "        rank = col[0].text\n",
    "        country = col[1].text\n",
    "        population = col[2].text.strip()\n",
    "        area = col[3].text.strip()\n",
    "        density = col[4].text.strip()\n",
    "        population_data = population_data.append({'Rank':rank, 'Country':country, 'Population':population, 'Area':area, 'Density':density}, ignore_index = True)\n",
    "        \n",
    "population_data"
   ]
  }
 ],
 "metadata": {
  "kernelspec": {
   "display_name": "Python 3",
   "language": "python",
   "name": "python3"
  },
  "language_info": {
   "codemirror_mode": {
    "name": "ipython",
    "version": 3
   },
   "file_extension": ".py",
   "mimetype": "text/x-python",
   "name": "python",
   "nbconvert_exporter": "python",
   "pygments_lexer": "ipython3",
   "version": "3.7.6"
  }
 },
 "nbformat": 4,
 "nbformat_minor": 4
}
